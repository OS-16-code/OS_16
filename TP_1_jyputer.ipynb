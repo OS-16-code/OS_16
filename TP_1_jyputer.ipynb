{
 "cells": [
  {
   "cell_type": "markdown",
   "metadata": {},
   "source": [
    "Groupe : OS_16 , TP1 : Module : GESTION DE LA MEMOIRE.\n",
    "\n",
    "Pour ce travail numero 1 , il nous a été démandé de faire un programme faisant la simulation du fonctionnent d'une mémoire RAM en démontrant les differents étapes lors de l'éxécution d'un programme par le processeur.\n",
    "\n",
    "Nous allons donc nous y prendres de la manière suivante:\n",
    "On crée une mémoire RAM ; on le subdivise en des cases ,mémoires et après regarde l'état de la mémoire avant et après l'execution d'un processus par le processeur.\n",
    "Alors commencons : "
   ]
  },
  {
   "cell_type": "code",
   "execution_count": null,
   "metadata": {},
   "outputs": [
    {
     "ename": "",
     "evalue": "",
     "output_type": "error",
     "traceback": [
      "\u001b[1;31mLes cellules en cours d’exécution avec Python 3.13.1 nécessitent le package ipykernel.\n",
      "\u001b[1;31mExécutez la commande suivante pour installer 'ipykernel' dans l’environnement Python. \n",
      "\u001b[1;31mCommande : '\"c:/Users/PLAMEDI NZOGU/AppData/Local/Programs/Python/Python313/python.exe\" -m pip install ipykernel -U --user --force-reinstall'"
     ]
    }
   ],
   "source": [
    "print(\"BIEVENU : 0S_16\".center( 50 , \"*\"))\n",
    "print(\"\\nPROGRAMME EXECUTANT LA SIMULATION DU FONCTIONNEMENT DEE LA MEMOIRE RAM\\n\\n\")\n",
    "ligne = [] #inititation des lignes de la memoire\n",
    "memoire = [] # creation de la memoire"
   ]
  },
  {
   "cell_type": "markdown",
   "metadata": {},
   "source": [
    "Parce que avant l'éxécution d'un processus la mémoire est vide ; initialisons doc notre toute les ceses mémoirs de notre mémoires à vide:\n",
    "(ici nous utulisons des faibles valeurs pour raison de visualisations concretes mais le concepte peut bien s'appliquer à des grandes valeurs)"
   ]
  },
  {
   "cell_type": "code",
   "execution_count": null,
   "metadata": {},
   "outputs": [],
   "source": [
    "# initiation de toute les cases de la memoire a vide\n",
    "for i in range(1,5) :\n",
    "    ligne = []\n",
    "    for j in range(1,5) :\n",
    "        colonne=\"VD\"\n",
    "        ligne.append(colonne)\n",
    "    memoire.append(ligne)\n",
    "\n",
    "# Affichage de L'etat initiale de la memoire avec toutes les cases qui sont vide\n",
    "print(\"Initialement avant toute execution, la memoire est vide , voici cet etat initial : \\n\")\n",
    "print(\"Affichage a l'etat initial\".center(50 ,\"=\" ))\n",
    "for ligne in memoire :\n",
    "    for variable in ligne :\n",
    "        print(variable , end= \" \")\n",
    "    print(\"\\n\")"
   ]
  },
  {
   "cell_type": "markdown",
   "metadata": {},
   "source": [
    "créeons une foctions qui nous permettra de faire de stockage des valeurs dans notre mémoire "
   ]
  },
  {
   "cell_type": "code",
   "execution_count": null,
   "metadata": {},
   "outputs": [],
   "source": [
    "def stocker (variable , derniere_ligne , derniere_colonne) :\n",
    "    \"\"\"Fonction permetant la mise en stock d'une valeur quelconque en memoire\"\"\"\n",
    "    for i in range( dernire_ligne , 5) :\n",
    "        for j in range(derniere_colonne , 5) :\n",
    "            memoire[i][j] = variable\n",
    "            derniere_colonne = derniere_colonne+1\n",
    "            if derniere_colonne == 4 :\n",
    "                derniere_ligne = derniere_ligne+1\n",
    "                derniere_colonne = 0\n",
    "            break\n",
    "        break\n",
    "    if derniere_ligne > 4 :\n",
    "        print(\"\\nMemoire plaine\\n\")\n",
    "        return 0\n",
    "    return derniere_ligne , derniere_colonne"
   ]
  },
  {
   "cell_type": "markdown",
   "metadata": {},
   "source": [
    "à present effectuons les stockages des quelques valeurs dans notre RAM et voyons ce que ca donne"
   ]
  },
  {
   "cell_type": "code",
   "execution_count": null,
   "metadata": {},
   "outputs": [],
   "source": [
    "print(\"Apres , lorsqu'on lance l'execution d'un programme , quelques valeurs sont stocker dans la memoire\\nEn voici la representation : \\n\")\n",
    "# Remplissage de la memoire , ici on considere que le processeur envoie a la memoire des valeurs a stocker pour\n",
    "# les processus qui sont en cours d'execution en son sein\n",
    "# Ici l'allocation memoire est continue et non aleatoire\n",
    "dernire_ligne = derniere_colonne = 0\n",
    "dernire_ligne , derniere_colonne = stocker(4, dernire_ligne, derniere_colonne)\n",
    "dernire_ligne , derniere_colonne = stocker(6, dernire_ligne, derniere_colonne)\n",
    "dernire_ligne , derniere_colonne = stocker(7, dernire_ligne, derniere_colonne)\n",
    "dernire_ligne , derniere_colonne = stocker(12, dernire_ligne, derniere_colonne)\n",
    "dernire_ligne , derniere_colonne = stocker(24, dernire_ligne, derniere_colonne)\n",
    "\n",
    "\n",
    "# Affichage de l'etat de la memoire apres stockage de certaines valeurs , et on montre toujours les case qui sont vides\n",
    "print(\"Affichage apres stockage en memoire\".center(50 ,\"=\"))\n",
    "for ligne in memoire :\n",
    "    for variable in ligne :\n",
    "        print(variable , end= \" \")\n",
    "    print(\"\\n\")"
   ]
  },
  {
   "cell_type": "markdown",
   "metadata": {},
   "source": [
    "Voilà c'était notre travail du jour.\n",
    "\n",
    "# OS_16"
   ]
  }
 ],
 "metadata": {
  "kernelspec": {
   "display_name": "Python 3",
   "language": "python",
   "name": "python3"
  },
  "language_info": {
   "name": "python",
   "version": "3.13.1"
  }
 },
 "nbformat": 4,
 "nbformat_minor": 2
}
